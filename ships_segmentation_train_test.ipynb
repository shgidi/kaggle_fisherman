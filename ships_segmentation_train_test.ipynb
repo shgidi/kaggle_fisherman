{
 "cells": [
  {
   "cell_type": "code",
   "execution_count": 1,
   "metadata": {
    "collapsed": true
   },
   "outputs": [],
   "source": [
    "import pandas as pd\n",
    "import numpy as np\n",
    "import glob\n",
    "from sklearn import cluster\n",
    "from scipy.misc import imread\n",
    "import cv2\n",
    "import skimage.measure as sm\n",
    "# import progressbar\n",
    "import multiprocessing\n",
    "import random\n",
    "import matplotlib.pyplot as plt\n",
    "import seaborn as sns\n",
    "%matplotlib inline\n",
    "new_style = {'grid': False}\n",
    "plt.rc('axes', **new_style)\n",
    "\n",
    "# Function to show 4 images\n",
    "def show_four(imgs, title):\n",
    "    #select_imgs = [np.random.choice(imgs) for _ in range(4)]\n",
    "    select_imgs = [imgs[np.random.choice(len(imgs))] for _ in range(4)]\n",
    "    _, ax = plt.subplots(1, 4, sharex='col', sharey='row', figsize=(20, 3))\n",
    "    plt.suptitle(title, size=20)\n",
    "    for i, img in enumerate(select_imgs):\n",
    "        ax[i].imshow(img)\n",
    "\n",
    "# Function to show 8 images\n",
    "def show_eight(imgs, title):\n",
    "    select_imgs = [imgs[np.random.choice(len(imgs))] for _ in range(8)]\n",
    "    _, ax = plt.subplots(2, 4, sharex='col', sharey='row', figsize=(20, 6))\n",
    "    plt.suptitle(title, size=20)\n",
    "    for i, img in enumerate(select_imgs):\n",
    "        ax[i // 4, i % 4].imshow(img)"
   ]
  },
  {
   "cell_type": "code",
   "execution_count": 2,
   "metadata": {
    "collapsed": true
   },
   "outputs": [],
   "source": [
    "#select = 500 # Only load 500 images for speed\n",
    "# Data loading\n",
    "tr_files = glob.glob('/mnt/kaggle_fisherman/train/*/*.jpg')\n",
    "te1_files = glob.glob('/mnt/kaggle_fisherman/test_stg1/*.jpg')\n",
    "te2_files = glob.glob('/mnt/kaggle_fisherman/test_stg2/*.jpg')"
   ]
  },
  {
   "cell_type": "code",
   "execution_count": 3,
   "metadata": {
    "collapsed": false
   },
   "outputs": [],
   "source": [
    "files = tr_files + te1_files + te2_files"
   ]
  },
  {
   "cell_type": "code",
   "execution_count": 4,
   "metadata": {
    "collapsed": false
   },
   "outputs": [
    {
     "name": "stdout",
     "output_type": "stream",
     "text": [
      "number of total images 16930\n"
     ]
    }
   ],
   "source": [
    "all_files = np.array([cv2.resize(imread(img), (64, 64), cv2.INTER_LINEAR) for img in files])\n",
    "print('number of total images {}'.format(len(all_files)))\n",
    "\n",
    "# Function for computing distance between images\n",
    "def compare(args):\n",
    "    img, img2 = args\n",
    "    img = (img - img.mean()) / img.std()\n",
    "    img2 = (img2 - img2.mean()) / img2.std()\n",
    "    return np.mean(np.abs(img - img2))"
   ]
  },
  {
   "cell_type": "code",
   "execution_count": null,
   "metadata": {
    "collapsed": true
   },
   "outputs": [],
   "source": [
    "# Create the distance matrix in a multithreaded fashion\n",
    "pool = multiprocessing.Pool(12)\n",
    "#bar = progressbar.ProgressBar(max=len(train))\n",
    "distances = np.zeros((len(all_files), len(all_files)))\n",
    "for i, img in enumerate(all_files): #enumerate(bar(train)):\n",
    "    all_imgs = [(img, f) for f in all_files]\n",
    "    dists = pool.map(compare, all_imgs)\n",
    "    distances[i, :] = dists\n",
    "\n",
    "cls = cluster.DBSCAN(metric='precomputed', min_samples=5, eps=0.6)\n",
    "boat_ids = cls.fit_predict(distances)"
   ]
  },
  {
   "cell_type": "code",
   "execution_count": 7,
   "metadata": {
    "collapsed": true
   },
   "outputs": [],
   "source": [
    "df = pd.DataFrame({'path':files,'boat_id':boat_ids})\n",
    "df.to_csv('/mnt/kaggle_fisherman/preprocessed_train/boat_ids_train_test_unified.csv')"
   ]
  }
 ],
 "metadata": {
  "kernelspec": {
   "display_name": "Python 3",
   "language": "python",
   "name": "python3"
  },
  "language_info": {
   "codemirror_mode": {
    "name": "ipython",
    "version": 3
   },
   "file_extension": ".py",
   "mimetype": "text/x-python",
   "name": "python",
   "nbconvert_exporter": "python",
   "pygments_lexer": "ipython3",
   "version": "3.6.0"
  }
 },
 "nbformat": 4,
 "nbformat_minor": 2
}
