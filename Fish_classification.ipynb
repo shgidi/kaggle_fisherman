{
 "cells": [
  {
   "cell_type": "code",
   "execution_count": null,
   "metadata": {
    "collapsed": true
   },
   "outputs": [],
   "source": [
    "#load all fish, snip them by cooridantes...\n",
    "#train neural network classifir"
   ]
  },
  {
   "cell_type": "code",
   "execution_count": 1,
   "metadata": {
    "collapsed": true
   },
   "outputs": [],
   "source": [
    "#import\n",
    "import json\n",
    "import time\n",
    "import glob\n",
    "from pprint import pprint\n",
    "import os\n",
    "import cv2\n",
    "import numpy as np\n",
    "from matplotlib import pyplot as plt\n",
    "%matplotlib inline"
   ]
  },
  {
   "cell_type": "code",
   "execution_count": 2,
   "metadata": {
    "collapsed": false
   },
   "outputs": [
    {
     "data": {
      "text/plain": [
       "['alb', 'bet', 'dol', 'lag', 'nof', 'other', 'shark', 'yft']"
      ]
     },
     "execution_count": 2,
     "metadata": {},
     "output_type": "execute_result"
    }
   ],
   "source": [
    "\n",
    "folders = ['ALB', 'BET', 'DOL', 'LAG', 'NoF', 'OTHER', 'SHARK', 'YFT']#what is , 'NoF'? probably no fish/...\n",
    "lower_names=[s.lower() for s in folders]\n",
    "lower_names"
   ]
  },
  {
   "cell_type": "code",
   "execution_count": 23,
   "metadata": {
    "collapsed": false,
    "scrolled": true
   },
   "outputs": [
    {
     "name": "stdout",
     "output_type": "stream",
     "text": [
      "7 labels loaded\n"
     ]
    }
   ],
   "source": [
    "#read the jsons\n",
    "fish_loc_labels={}\n",
    "for name in lower_names:\n",
    "    if name!='nof':\n",
    "        with open('kaggleNatureConservancy/'+name+'_labels.json') as data_file:    \n",
    "            #data = json.load(data_file)\n",
    "            fish_loc_labels[name]=json.load(data_file)\n",
    "    \n",
    "print len(fish_loc_labels),'labels loaded'"
   ]
  },
  {
   "cell_type": "code",
   "execution_count": 101,
   "metadata": {
    "collapsed": false,
    "scrolled": true
   },
   "outputs": [],
   "source": [
    "X_train = []\n",
    "X_train_id = []\n",
    "y_train = []\n",
    "notation=[]\n",
    "for fld in folders:\n",
    "    if fld!='NoF':\n",
    "        for item,i in zip(fish_loc_labels[fld.lower()],range(len(fish_loc_labels[fld.lower()]))):\n",
    "            if len(item['annotations'])>1 and item['filename'][:3]=='img':\n",
    "                path = os.path.join('train', fld, item['filename']) #path is the file paths\n",
    "                flbase = os.path.basename(path) #only the file\n",
    "                img,original_dims = get_im_cv2(path)\n",
    "                if 'x' in item['annotations'][0] and 'x'in item['annotations'][1]:\n",
    "                    X_train.append(img)\n",
    "                    X_train_id.append(flbase)\n",
    "                    top=min(int(item['annotations'][0]['y']),int(item['annotations'][1]['y']))\n",
    "                    bottom=max(int(item['annotations'][0]['y']),int(item['annotations'][1]['y']))\n",
    "                    left=min(int(item['annotations'][0]['x']),int(item['annotations'][1]['x']))\n",
    "                    right=max(int(item['annotations'][0]['x']),int(item['annotations'][1]['x']))\n",
    "    \n",
    "                    class_=np.where(np.array(folders)==fld)[0][0]\n",
    "                    notation.append(((top,left),(bottom,right)))\n",
    "                    y_train.append(class_)"
   ]
  },
  {
   "cell_type": "code",
   "execution_count": 64,
   "metadata": {
    "collapsed": false
   },
   "outputs": [
    {
     "data": {
      "text/plain": [
       "1946"
      ]
     },
     "execution_count": 64,
     "metadata": {},
     "output_type": "execute_result"
    }
   ],
   "source": [
    "len(y_train)"
   ]
  },
  {
   "cell_type": "code",
   "execution_count": 60,
   "metadata": {
    "collapsed": false,
    "scrolled": true
   },
   "outputs": [
    {
     "data": {
      "text/plain": [
       "1946"
      ]
     },
     "execution_count": 60,
     "metadata": {},
     "output_type": "execute_result"
    }
   ],
   "source": [
    "len(X_train)"
   ]
  },
  {
   "cell_type": "code",
   "execution_count": 122,
   "metadata": {
    "collapsed": false
   },
   "outputs": [
    {
     "name": "stdout",
     "output_type": "stream",
     "text": [
      "((348, 616), (348, 732))\n",
      "0 (107, 270, 3)\n",
      "1 (173, 33, 3)\n",
      "2 (167, 110, 3)\n",
      "3 (37, 177, 3)\n",
      "4 (44, 119, 3)\n",
      "5 (184, 88, 3)\n",
      "6 (125, 97, 3)\n",
      "7 (24, 89, 3)\n",
      "8 (145, 50, 3)\n",
      "9 (133, 34, 3)\n",
      "10 (24, 249, 3)\n",
      "11 (109, 266, 3)\n",
      "12 (104, 8, 3)\n",
      "13 (78, 49, 3)\n",
      "14 (23, 156, 3)\n",
      "15 (146, 45, 3)\n",
      "16 (67, 181, 3)\n",
      "17 (20, 344, 3)\n",
      "18 (4, 338, 3)\n",
      "19 (143, 63, 3)\n",
      "20 (147, 24, 3)\n",
      "21 (124, 76, 3)\n",
      "22 (68, 172, 3)\n",
      "23 (44, 147, 3)\n",
      "24 (62, 576, 3)\n",
      "25 (51, 118, 3)\n",
      "26 (40, 265, 3)\n",
      "27 (33, 152, 3)\n",
      "28 (93, 16, 3)\n",
      "29 (102, 219, 3)\n",
      "30 (58, 169, 3)\n",
      "31 (39, 70, 3)\n",
      "32 (111, 92, 3)\n",
      "33 (50, 152, 3)\n",
      "34 (136, 111, 3)\n",
      "35 (0, 116, 3)\n"
     ]
    },
    {
     "ename": "error",
     "evalue": "/build/opencv-vU8_lj/opencv-2.4.9.1+dfsg/modules/imgproc/src/imgwarp.cpp:1834: error: (-215) ssize.area() > 0 in function resize\n",
     "output_type": "error",
     "traceback": [
      "\u001b[0;31m---------------------------------------------------------------------------\u001b[0m",
      "\u001b[0;31merror\u001b[0m                                     Traceback (most recent call last)",
      "\u001b[0;32m<ipython-input-122-bd737403c5ce>\u001b[0m in \u001b[0;36m<module>\u001b[0;34m()\u001b[0m\n\u001b[1;32m     11\u001b[0m     \u001b[0mtrain_cropped\u001b[0m\u001b[0;34m.\u001b[0m\u001b[0mappend\u001b[0m\u001b[0;34m(\u001b[0m\u001b[0mimg\u001b[0m\u001b[0;34m)\u001b[0m\u001b[0;34m\u001b[0m\u001b[0m\n\u001b[1;32m     12\u001b[0m     \u001b[0;32mprint\u001b[0m \u001b[0mi\u001b[0m\u001b[0;34m,\u001b[0m\u001b[0mimg\u001b[0m\u001b[0;34m.\u001b[0m\u001b[0mshape\u001b[0m\u001b[0;34m\u001b[0m\u001b[0m\n\u001b[0;32m---> 13\u001b[0;31m     \u001b[0mtrain_resized\u001b[0m\u001b[0;34m.\u001b[0m\u001b[0mappend\u001b[0m\u001b[0;34m(\u001b[0m\u001b[0mcv2\u001b[0m\u001b[0;34m.\u001b[0m\u001b[0mresize\u001b[0m\u001b[0;34m(\u001b[0m\u001b[0mtrain_cropped\u001b[0m\u001b[0;34m[\u001b[0m\u001b[0mi\u001b[0m\u001b[0;34m]\u001b[0m\u001b[0;34m,\u001b[0m \u001b[0;34m(\u001b[0m\u001b[0mdims\u001b[0m\u001b[0;34m[\u001b[0m\u001b[0;36m0\u001b[0m\u001b[0;34m]\u001b[0m\u001b[0;34m,\u001b[0m \u001b[0mdims\u001b[0m\u001b[0;34m[\u001b[0m\u001b[0;36m1\u001b[0m\u001b[0;34m]\u001b[0m\u001b[0;34m)\u001b[0m\u001b[0;34m,\u001b[0m \u001b[0minterpolation\u001b[0m\u001b[0;34m=\u001b[0m\u001b[0mcv2\u001b[0m\u001b[0;34m.\u001b[0m\u001b[0mINTER_LINEAR\u001b[0m\u001b[0;34m)\u001b[0m\u001b[0;34m)\u001b[0m\u001b[0;34m\u001b[0m\u001b[0m\n\u001b[0m",
      "\u001b[0;31merror\u001b[0m: /build/opencv-vU8_lj/opencv-2.4.9.1+dfsg/modules/imgproc/src/imgwarp.cpp:1834: error: (-215) ssize.area() > 0 in function resize\n"
     ]
    },
    {
     "data": {
      "image/png": "[encoded data removed]",
      "text/plain": [
       "<matplotlib.figure.Figure at 0x7fbcb8c9b6d0>"
      ]
     },
     "metadata": {},
     "output_type": "display_data"
    }
   ],
   "source": [
    "i=35\n",
    "cv2.rectangle(X_train[i],notation[i][0],notation[i][1] , 255, 1)\n",
    "plt.imshow(X_train[i][notation[i][0][0]-5:notation[i][1][0]+5,notation[i][0][1]-5:notation[i][1][1]+5])\n",
    "print notation[i]\n",
    "\n",
    "dims=[100,100]\n",
    "train_cropped=[]\n",
    "train_resized=[]\n",
    "for i in range(len(X_train)):\n",
    "    \n",
    "    img=X_train[i][notation[i][0][0]:notation[i][1][0],notation[i][0][1]:notation[i][1][1]]\n",
    "    train_cropped.append(img)\n",
    "    print i,img.shape\n",
    "    train_resized.append(cv2.resize(train_cropped[i], (dims[0], dims[1]), interpolation=cv2.INTER_LINEAR))"
   ]
  },
  {
   "cell_type": "code",
   "execution_count": 62,
   "metadata": {
    "collapsed": true
   },
   "outputs": [],
   "source": [
    "def get_im_cv2(path,dims=[100,100]):\n",
    "    img = cv2.imread(path)\n",
    "    original_dims=img.shape\n",
    "    #resized = cv2.resize(img, (dims[0], dims[1]), interpolation=cv2.INTER_LINEAR)\n",
    "    #resized = cv2.cvtColor(resized, cv2.COLOR_BGR2GRAY)\n",
    "    return img,original_dims"
   ]
  },
  {
   "cell_type": "code",
   "execution_count": 7,
   "metadata": {
    "collapsed": false
   },
   "outputs": [
    {
     "name": "stdout",
     "output_type": "stream",
     "text": [
      "train/ALB/*.jpg\n"
     ]
    },
    {
     "ename": "TypeError",
     "evalue": "string indices must be integers, not str",
     "output_type": "error",
     "traceback": [
      "\u001b[0;31m---------------------------------------------------------------------------\u001b[0m",
      "\u001b[0;31mTypeError\u001b[0m                                 Traceback (most recent call last)",
      "\u001b[0;32m<ipython-input-7-97220912a487>\u001b[0m in \u001b[0;36m<module>\u001b[0;34m()\u001b[0m\n\u001b[1;32m     14\u001b[0m         \u001b[0;32mprint\u001b[0m \u001b[0mpath\u001b[0m\u001b[0;34m\u001b[0m\u001b[0m\n\u001b[1;32m     15\u001b[0m         \u001b[0;32mfor\u001b[0m \u001b[0mitem\u001b[0m\u001b[0;34m,\u001b[0m\u001b[0mi\u001b[0m \u001b[0;32min\u001b[0m \u001b[0mzip\u001b[0m\u001b[0;34m(\u001b[0m\u001b[0mfish_loc_labels\u001b[0m\u001b[0;34m,\u001b[0m\u001b[0mrange\u001b[0m\u001b[0;34m(\u001b[0m\u001b[0mlen\u001b[0m\u001b[0;34m(\u001b[0m\u001b[0mfish_loc_labels\u001b[0m\u001b[0;34m)\u001b[0m\u001b[0;34m)\u001b[0m\u001b[0;34m)\u001b[0m\u001b[0;34m:\u001b[0m\u001b[0;34m\u001b[0m\u001b[0m\n\u001b[0;32m---> 16\u001b[0;31m             \u001b[0;32mif\u001b[0m \u001b[0mitem\u001b[0m\u001b[0;34m[\u001b[0m\u001b[0;34m'annotations'\u001b[0m\u001b[0;34m]\u001b[0m\u001b[0;34m!=\u001b[0m\u001b[0;34m[\u001b[0m\u001b[0;34m]\u001b[0m\u001b[0;34m:\u001b[0m\u001b[0;34m\u001b[0m\u001b[0m\n\u001b[0m\u001b[1;32m     17\u001b[0m                 \u001b[0mpath\u001b[0m \u001b[0;34m=\u001b[0m \u001b[0mos\u001b[0m\u001b[0;34m.\u001b[0m\u001b[0mpath\u001b[0m\u001b[0;34m.\u001b[0m\u001b[0mjoin\u001b[0m\u001b[0;34m(\u001b[0m\u001b[0;34m'train'\u001b[0m\u001b[0;34m,\u001b[0m \u001b[0mfld\u001b[0m\u001b[0;34m,\u001b[0m \u001b[0mitem\u001b[0m\u001b[0;34m[\u001b[0m\u001b[0;34m'filename'\u001b[0m\u001b[0;34m]\u001b[0m\u001b[0;34m)\u001b[0m\u001b[0;34m\u001b[0m\u001b[0m\n\u001b[1;32m     18\u001b[0m                 \u001b[0;31m#load_file(item['filename'])\u001b[0m\u001b[0;34m\u001b[0m\u001b[0;34m\u001b[0m\u001b[0m\n",
      "\u001b[0;31mTypeError\u001b[0m: string indices must be integers, not str"
     ]
    }
   ],
   "source": [
    "#read the pics\n",
    "\n",
    "X_train = []\n",
    "X_train_id = []\n",
    "y_train = []\n",
    "\n",
    "samples=len(fish_loc_labels)\n",
    "dims=[100,100]\n",
    "\n",
    "for fld in folders:\n",
    "    X=np.zeros([samples,1,dims[0], dims[1]]) \n",
    "    y=np.zeros([samples,4])\n",
    "    path = os.path.join('train', fld, '*.jpg')\n",
    "    print path\n",
    "    for item,i in zip(fish_loc_labels,range(len(fish_loc_labels))):\n",
    "        if item['annotations']!=[]:\n",
    "            path = os.path.join('train', fld, item['filename'])\n",
    "            #load_file(item['filename'])\n",
    "            flbase = os.path.basename(path)\n",
    "            img,original_dims = get_im_cv2(path)\n",
    "            X_train.append(img)\n",
    "            X_train_id.append(flbase)\n",
    "            top_left=(int(item['annotations'][0]['x']*dims[0]/original_dims[1]),int(item['annotations'][0]['y']*dims[0]/original_dims[0]))\n",
    "            bottom_right=(int(item['annotations'][1]['x']*dims[1]/original_dims[1]),int(item['annotations'][1]['y']*dims[1]/original_dims[0]))\n",
    "            #fish_loc=[item['annotations'][0]['x'],item['annotations'][0]['y'],item['annotations'][1]['x'],item['annotations'][1]['y']]\n",
    "            y_train.append([top_left,bottom_right])\n",
    "\n",
    "            y[i,:]=np.array([top_left[0],top_left[1],bottom_right[0],bottom_right[1]])\n",
    "\n",
    "    X = X.astype(np.float32)\n",
    "    y = y.astype(np.float32)\n",
    "\n",
    "    X=X/255\n",
    "    y=(y-50)/100"
   ]
  }
 ],
 "metadata": {
  "kernelspec": {
   "display_name": "Python 2",
   "language": "python",
   "name": "python2"
  },
  "language_info": {
   "codemirror_mode": {
    "name": "ipython",
    "version": 2
   },
   "file_extension": ".py",
   "mimetype": "text/x-python",
   "name": "python",
   "nbconvert_exporter": "python",
   "pygments_lexer": "ipython2",
   "version": "2.7.12+"
  }
 },
 "nbformat": 4,
 "nbformat_minor": 2
}
